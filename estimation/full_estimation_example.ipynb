{
 "cells": [
  {
   "cell_type": "markdown",
   "id": "5661202a-d735-425b-8b13-3e7e38266e65",
   "metadata": {},
   "source": [
    "# Parameter Estimation with DELFI-C3\n",
    "## Objectives\n",
    "This example will guide you through the set-up of an orbit estimation routine, which usually comprises the estimation of the covariance, as well as the estimation of the initial parameters. In this example we will focus on the latter, and you'll learn: \n",
    " \n",
    "* how to set up and perform the **full estimation** of a spacecraft's initial state, drag coefficient, and radiation pressure coefficient\n",
    " \n",
    "For the **covariance analysis** over the course of the spacecraft's orbit see the [Delfi-C3 Covariance Analysis example](covariance_estimated_parameters.ipynb).\n",
    " \n",
    "If you have already followed the covariance example, you might want to **skip the first part of this example** dealing with the setup of all relevant (environment, propagation, and estimation) modules, and dive straight in to the full estimation of all chosen parameters.\n",
    " \n",
    "To simulate the orbit of a spacecraft, we will fall back and reiterate on all aspects of orbit propagation that are important within the scope of orbit estimation. Further, we will highlight all relevant features of modelling a tracking station on Earth. Using this station, we will simulate a tracking routine of the spacecraft using a series of open-loop Doppler range-rate measurements at 1 mm/s every 60 seconds. To assure an uninterrupted line-of-sight between the station and the spacecraft, a minimum elevation angle of more than 15 degrees above the horizon - as seen from the station - will be imposed as constraint on the simulation of observations."
   ]
  },
  {
   "cell_type": "markdown",
   "id": "58c530e7-a396-49af-8136-4a5cfca02e29",
   "metadata": {
    "lines_to_next_cell": 2
   },
   "source": [
    "## Import statements\n",
    "Typically - in the most pythonic way - all required modules are imported at the very beginning.\n",
    "\n",
    "Some standard modules are first loaded: `numpy` and `matplotlib.pyplot`.\n",
    "\n",
    "Then, the different modules of `tudatpy` that will be used are imported. Most notably, the `estimation`, `estimation_setup`, and `observations` modules will be used and demonstrated within this example."
   ]
  },
  {
   "cell_type": "code",
   "execution_count": 65,
   "id": "1e2109e2",
   "metadata": {},
   "outputs": [],
   "source": [
    "# Load required standard modules\n",
    "import numpy as np\n",
    "from matplotlib import pyplot as plt"
   ]
  },
  {
   "cell_type": "code",
   "execution_count": 66,
   "id": "4b1ccb21",
   "metadata": {
    "lines_to_next_cell": 2
   },
   "outputs": [],
   "source": [
    "# Load required tudatpy modules\n",
    "from tudatpy import constants\n",
    "from tudatpy.interface import spice\n",
    "from tudatpy import numerical_simulation\n",
    "from tudatpy.numerical_simulation import environment\n",
    "from tudatpy.numerical_simulation import environment_setup\n",
    "from tudatpy.numerical_simulation import propagation_setup\n",
    "from tudatpy.numerical_simulation import estimation, estimation_setup\n",
    "from tudatpy.numerical_simulation.estimation_setup import observation\n",
    "from tudatpy.astro.time_conversion import DateTime\n",
    "from tudatpy.astro import element_conversion"
   ]
  },
  {
   "cell_type": "markdown",
   "id": "7a6cf2de-a838-4d02-90d8-f39f8eb1494d",
   "metadata": {
    "lines_to_next_cell": 2
   },
   "source": [
    "## Configuration\n",
    "First, NAIF's `SPICE` kernels are loaded, to make the positions of various bodies such as the Earth, the Sun, or the Moon known to `tudatpy`.\n",
    " \n",
    "Subsequently, the start and end epoch of the simulation are defined. Note that using `tudatpy`, the times are generally specified in seconds since J2000. Hence, setting the start epoch to `0` corresponds to the 1st of January 2000. The end epoch specifies a total duration of the simulation of three days.\n",
    " \n",
    "For more information on J2000 and the conversion between different temporal reference frames, please refer to the [API documentation](https://py.api.tudat.space/en/latest/time_conversion.html) of the `time_conversion` module.\n",
    "\n",
    "NOTE: \n",
    "To avoid issues with the interpolator, we define a time buffer and add we subtract it and add it to the simulation start and end epoch, respectively. "
   ]
  },
  {
   "cell_type": "code",
   "execution_count": 67,
   "id": "b34ed1f3",
   "metadata": {},
   "outputs": [],
   "source": [
    "# Load spice kernels\n",
    "spice.load_standard_kernels()"
   ]
  },
  {
   "cell_type": "code",
   "execution_count": 68,
   "id": "baedd9b2",
   "metadata": {},
   "outputs": [],
   "source": [
    "# Set simulation start and end epochs\n",
    "time_buffer = 10\n",
    "simulation_start_epoch = DateTime(2000, 1, 1).epoch() - time_buffer\n",
    "simulation_end_epoch   = DateTime(2000, 1, 4).epoch() + time_buffer"
   ]
  },
  {
   "cell_type": "markdown",
   "id": "88b59af3-7322-4499-9e34-43279524f3b4",
   "metadata": {
    "lines_to_next_cell": 2
   },
   "source": [
    "## Set up the environment\n",
    "We will now create and define the settings for the environment of our simulation. In particular, this covers the creation of (celestial) bodies, vehicle(s), and environment interfaces.\n",
    " \n",
    "### Create the main bodies\n",
    "To create the systems of bodies for the simulation, one first has to define a list of strings of all bodies that are to be included. Note that the default body settings (such as atmosphere, body shape, rotation model) are taken from the `SPICE` kernel.\n",
    " \n",
    "These settings, however, can be adjusted. Please refer to the [Available Environment Models](https://docs.tudat.space/en/latest/_src_user_guide/state_propagation/environment_setup/environment_models.html#available-model-types) in the user guide for more details.\n",
    " \n",
    "Finally, the system of bodies is created using the settings. This system of bodies is stored into the variable `bodies`."
   ]
  },
  {
   "cell_type": "code",
   "execution_count": 69,
   "id": "aadda7d4",
   "metadata": {},
   "outputs": [],
   "source": [
    "# Create default body settings for \"Sun\", \"Earth\", \"Moon\", \"Mars\", and \"Venus\"\n",
    "bodies_to_create = [\"Sun\", \"Earth\", \"Moon\", \"Mars\", \"Venus\"]"
   ]
  },
  {
   "cell_type": "code",
   "execution_count": 70,
   "id": "a614fb86",
   "metadata": {
    "lines_to_next_cell": 2
   },
   "outputs": [],
   "source": [
    "# Create default body settings for bodies_to_create, with \"Earth\"/\"J2000\" as the global frame origin and orientation\n",
    "global_frame_origin = \"Earth\"\n",
    "global_frame_orientation = \"J2000\"\n",
    "body_settings = environment_setup.get_default_body_settings(\n",
    "    bodies_to_create, global_frame_origin, global_frame_orientation)"
   ]
  },
  {
   "cell_type": "markdown",
   "id": "7ca04e4b-3d0f-43f4-8b68-03bc55dad6a3",
   "metadata": {
    "lines_to_next_cell": 2
   },
   "source": [
    "### Create the vehicle and its environment interface\n",
    "We will now create the satellite - called Delfi-C3 - for which an orbit will be simulated. Using an `empty_body` as a blank canvas for the satellite, we define mass of 2.2 kg, a reference area (used both for aerodynamic and radiation pressure) of 4m$^2$, and a aerodynamic drag coefficient of 1.2. Idem for the radiation pressure coefficient. Finally, when setting up the radiation pressure interface, the Earth is set as a body that can occult the radiation emitted by the Sun."
   ]
  },
  {
   "cell_type": "code",
   "execution_count": 71,
   "id": "7a62fcf1",
   "metadata": {},
   "outputs": [],
   "source": [
    "# Create empty body settings for the satellite\n",
    "body_settings.add_empty_settings(\"Delfi-C3\")"
   ]
  },
  {
   "cell_type": "code",
   "execution_count": 72,
   "id": "f2adc93b",
   "metadata": {},
   "outputs": [],
   "source": [
    "body_settings.get(\"Delfi-C3\").constant_mass = 2.2"
   ]
  },
  {
   "cell_type": "code",
   "execution_count": 73,
   "id": "946300f9",
   "metadata": {},
   "outputs": [],
   "source": [
    "# Create aerodynamic coefficient interface settings\n",
    "reference_area_drag = (4*0.3*0.1+2*0.1*0.1)/4  # Average projection area of a 3U CubeSat\n",
    "drag_coefficient = 1.2\n",
    "aero_coefficient_settings = environment_setup.aerodynamic_coefficients.constant(\n",
    "    reference_area_drag, [drag_coefficient, 0.0, 0.0]\n",
    ")"
   ]
  },
  {
   "cell_type": "code",
   "execution_count": 74,
   "id": "94ae971f",
   "metadata": {},
   "outputs": [],
   "source": [
    "# Add the aerodynamic interface to the body settings\n",
    "body_settings.get(\"Delfi-C3\").aerodynamic_coefficient_settings = aero_coefficient_settings"
   ]
  },
  {
   "cell_type": "code",
   "execution_count": 75,
   "id": "487accd3",
   "metadata": {
    "lines_to_next_cell": 2
   },
   "outputs": [],
   "source": [
    "# Create radiation pressure settings\n",
    "reference_area_radiation = (4*0.3*0.1+2*0.1*0.1)/4  # Average projection area of a 3U CubeSat\n",
    "radiation_pressure_coefficient = 1.2\n",
    "occulting_bodies_dict = dict()\n",
    "occulting_bodies_dict[\"Sun\"] = [\"Earth\"]\n",
    "vehicle_target_settings = environment_setup.radiation_pressure.cannonball_radiation_target(\n",
    "    reference_area_radiation, radiation_pressure_coefficient, occulting_bodies_dict )"
   ]
  },
  {
   "cell_type": "code",
   "execution_count": 76,
   "id": "50b585f0",
   "metadata": {
    "lines_to_next_cell": 2
   },
   "outputs": [],
   "source": [
    "# Add the radiation pressure interface to the body settings\n",
    "body_settings.get(\"Delfi-C3\").radiation_pressure_target_settings = vehicle_target_settings"
   ]
  },
  {
   "cell_type": "markdown",
   "id": "31634d0d-a2db-42bb-9fc8-4b158529f297",
   "metadata": {
    "lines_to_next_cell": 2
   },
   "source": [
    "Finally, the system of bodies is created using the settings. This system of bodies is stored into the variable `bodies`."
   ]
  },
  {
   "cell_type": "code",
   "execution_count": 77,
   "id": "4c91f38e",
   "metadata": {
    "lines_to_next_cell": 2
   },
   "outputs": [],
   "source": [
    "# Create system of bodies\n",
    "bodies = environment_setup.create_system_of_bodies(body_settings)"
   ]
  },
  {
   "cell_type": "markdown",
   "id": "c3dde466-5a33-48e6-a5cc-550f8d2a1505",
   "metadata": {
    "lines_to_next_cell": 2
   },
   "source": [
    "## Set up the propagation\n",
    "Having the environment created, we will define the settings for the propagation of the spacecraft. First, we have to define the body to be propagated - here, the spacecraft - and the central body - here, Earth - with respect to which the state of the propagated body is defined."
   ]
  },
  {
   "cell_type": "code",
   "execution_count": 78,
   "id": "81c78df2",
   "metadata": {},
   "outputs": [],
   "source": [
    "# Define bodies that are propagated\n",
    "bodies_to_propagate = [\"Delfi-C3\"]"
   ]
  },
  {
   "cell_type": "code",
   "execution_count": 79,
   "id": "c55a987f",
   "metadata": {
    "lines_to_next_cell": 2
   },
   "outputs": [],
   "source": [
    "# Define central bodies of propagation\n",
    "central_bodies = [\"Earth\"]"
   ]
  },
  {
   "cell_type": "markdown",
   "id": "a735abe5-5bdd-46f2-8397-81fed28b6f4a",
   "metadata": {
    "lines_to_next_cell": 2
   },
   "source": [
    "### Create the acceleration model\n",
    "Subsequently, all accelerations (and there settings) that act on `Delfi-C3` have to be defined. In particular, we will consider:\n",
    "\n",
    "* Gravitational acceleration using a spherical harmonic approximation up to 8th degree and order for Earth.\n",
    "* Aerodynamic acceleration for Earth.\n",
    "* Gravitational acceleration using a simple point mass model for:\n",
    "\n",
    "  - The Sun\n",
    "  - The Moon\n",
    "  - Mars\n",
    "\n",
    "* Radiation pressure experienced by the spacecraft - shape-wise approximated as a spherical cannonball - due to the Sun.\n",
    "\n",
    "The defined acceleration settings are then applied to `Delfi-C3` by means of a dictionary, which is finally used as input to the propagation setup to create the acceleration models."
   ]
  },
  {
   "cell_type": "code",
   "execution_count": 80,
   "id": "6e3a7da9",
   "metadata": {},
   "outputs": [],
   "source": [
    "# Define the accelerations acting on Delfi-C3\n",
    "accelerations_settings_delfi_c3 = dict(\n",
    "    Sun=[\n",
    "        propagation_setup.acceleration.radiation_pressure(),\n",
    "        propagation_setup.acceleration.point_mass_gravity()\n",
    "    ],\n",
    "    Mars=[\n",
    "        propagation_setup.acceleration.point_mass_gravity()\n",
    "    ],\n",
    "    Moon=[\n",
    "        propagation_setup.acceleration.point_mass_gravity()\n",
    "    ],\n",
    "    Earth=[\n",
    "        propagation_setup.acceleration.spherical_harmonic_gravity(8, 8),\n",
    "        propagation_setup.acceleration.aerodynamic()\n",
    "    ])"
   ]
  },
  {
   "cell_type": "code",
   "execution_count": 81,
   "id": "68a9217d",
   "metadata": {},
   "outputs": [],
   "source": [
    "# Create global accelerations dictionary\n",
    "acceleration_settings = {\"Delfi-C3\": accelerations_settings_delfi_c3}"
   ]
  },
  {
   "cell_type": "code",
   "execution_count": 82,
   "id": "35f6b381",
   "metadata": {
    "lines_to_next_cell": 2
   },
   "outputs": [],
   "source": [
    "# Create acceleration models\n",
    "acceleration_models = propagation_setup.create_acceleration_models(\n",
    "    bodies,\n",
    "    acceleration_settings,\n",
    "    bodies_to_propagate,\n",
    "    central_bodies)"
   ]
  },
  {
   "cell_type": "markdown",
   "id": "b62eaa6b-5b33-4d4e-8840-69dbee593ce8",
   "metadata": {
    "lines_to_next_cell": 2
   },
   "source": [
    "### Define the initial state\n",
    "Realise that the initial state of the spacecraft always has to be provided as a cartesian state - i.e. in the form of a list with the first three elements representing the initial position, and the three remaining elements representing the initial velocity.\n",
    "\n",
    "Within this example, we will retrieve the initial state of Delfi-C3 using its Two-Line-Elements (TLE) the date of its launch (April the 28th, 2008). The TLE strings are obtained from [space-track.org](https://www.space-track.org)."
   ]
  },
  {
   "cell_type": "code",
   "execution_count": 83,
   "id": "e381be97",
   "metadata": {
    "lines_to_next_cell": 2
   },
   "outputs": [],
   "source": [
    "# Retrieve the initial state of Delfi-C3 using Two-Line-Elements (TLEs)\n",
    "delfi_tle = environment.Tle(\n",
    "    \"1 32789U 07021G   08119.60740078 -.00000054  00000-0  00000+0 0  9999\",\n",
    "    \"2 32789 098.0082 179.6267 0015321 307.2977 051.0656 14.81417433    68\",\n",
    ")\n",
    "delfi_ephemeris = environment.TleEphemeris(\"Earth\", \"J2000\", delfi_tle, False)\n",
    "initial_state = delfi_ephemeris.cartesian_state( simulation_start_epoch )"
   ]
  },
  {
   "cell_type": "markdown",
   "id": "421b088d-bc86-4fcc-929d-8ef5f490bd92",
   "metadata": {
    "lines_to_next_cell": 2
   },
   "source": [
    "### Create the integrator settings\n",
    "For the problem at hand, we will use an RKF78 integrator with a fixed step-size of 60 seconds. This can be achieved by tweaking the implemented RKF78 integrator with variable step-size such that both the minimum and maximum step-size is equal to 60 seconds and a tolerance of 1.0"
   ]
  },
  {
   "cell_type": "code",
   "execution_count": 84,
   "id": "71a59f8a",
   "metadata": {
    "lines_to_next_cell": 2
   },
   "outputs": [],
   "source": [
    "# Create numerical integrator settings\n",
    "integrator_settings = propagation_setup.integrator.\\\n",
    "    runge_kutta_fixed_step_size(initial_time_step=60.0,\n",
    "                                coefficient_set=propagation_setup.integrator.CoefficientSets.rkdp_87)"
   ]
  },
  {
   "cell_type": "markdown",
   "id": "5c1b7ab6-43d4-4069-bc04-2d66b241e985",
   "metadata": {
    "lines_to_next_cell": 2
   },
   "source": [
    "### Create the propagator settings\n",
    "By combining all of the above-defined settings we can define the settings for the propagator to simulate the orbit of `Delfi-C3` around Earth. A termination condition needs to be defined so that the propagation stops as soon as the specified end epoch is reached. Finally, the translational propagator's settings are created."
   ]
  },
  {
   "cell_type": "code",
   "execution_count": 85,
   "id": "1da80a50",
   "metadata": {},
   "outputs": [],
   "source": [
    "# Create termination settings\n",
    "termination_condition = propagation_setup.propagator.time_termination(simulation_end_epoch)"
   ]
  },
  {
   "cell_type": "code",
   "execution_count": 86,
   "id": "c1860975",
   "metadata": {
    "lines_to_next_cell": 2
   },
   "outputs": [],
   "source": [
    "# Create propagation settings\n",
    "propagator_settings = propagation_setup.propagator.translational(\n",
    "    central_bodies,\n",
    "    acceleration_models,\n",
    "    bodies_to_propagate,\n",
    "    initial_state,\n",
    "    simulation_start_epoch,\n",
    "    integrator_settings,\n",
    "    termination_condition\n",
    ")"
   ]
  },
  {
   "cell_type": "markdown",
   "id": "76cb64fc-f438-4dce-aca9-bbd54bf72411",
   "metadata": {
    "lines_to_next_cell": 2
   },
   "source": [
    "## Set up the observations\n",
    "Having set the underlying dynamical model of the simulated orbit, we can define the observational model. Generally, this entails the addition all required ground stations, the definition of the observation links and types, as well as the precise simulation settings.\n",
    "\n",
    "### Add a ground station\n",
    "Trivially, the simulation of observations requires the extension of the current environment by at least one observer - a ground station. For this example, we will model a single ground station located in Delft, Netherlands, at an altitude of 0m, 52.00667°N, 4.35556°E.\n",
    "\n",
    "More information on how to use the `add_ground_station()` function can be found in the respective [API documentation](https://py.api.tudat.space/en/latest/environment_setup.html#tudatpy.numerical_simulation.environment_setup.add_ground_station)."
   ]
  },
  {
   "cell_type": "code",
   "execution_count": 87,
   "id": "237254ae",
   "metadata": {},
   "outputs": [],
   "source": [
    "# Define the position of the ground station on Earth\n",
    "station_altitude = 0.0\n",
    "delft_latitude = np.deg2rad(52.00667)\n",
    "delft_longitude = np.deg2rad(4.35556)"
   ]
  },
  {
   "cell_type": "code",
   "execution_count": 88,
   "id": "390bd11e",
   "metadata": {
    "lines_to_next_cell": 2
   },
   "outputs": [],
   "source": [
    "# Add the ground station to the environment\n",
    "environment_setup.add_ground_station(\n",
    "    bodies.get_body(\"Earth\"),\n",
    "    \"TrackingStation\",\n",
    "    [station_altitude, delft_latitude, delft_longitude],\n",
    "    element_conversion.geodetic_position_type)"
   ]
  },
  {
   "cell_type": "markdown",
   "id": "dbbadcef-dae3-4781-896b-498116cf3c31",
   "metadata": {
    "lines_to_next_cell": 2
   },
   "source": [
    "### Define Observation Links and Types\n",
    "To establish the links between our ground station and `Delfi-C3`, we will make use of the [observation module](https://py.api.tudat.space/en/latest/observation.html#observation) of tudat. During the link definition, each member is assigned a certain function within the link, for instance as \"transmitter\", \"receiver\", or \"reflector\". Once two (or more) members are connected to a link, they can be used to simulate observations along this particular link. The precise type of observation made along this link - e.g., range, range-rate, angular position, etc. - is then determined by the chosen observable type.\n",
    "\n",
    "To fully define an observation model for a given link, we have to create a list of the observation model settings of all desired observable types and their associated links. This list will later be used as input to the actual estimator object.\n",
    "\n",
    "Each observable type has its own function for creating observation model settings - in this example we will use the `one_way_doppler_instantaneous()` function to model a series of one-way open-loop (i.e. instantaneous) Doppler observations. Realise that the individual observation model settings can also include corrective models or define biases for more advanced use-cases."
   ]
  },
  {
   "cell_type": "code",
   "execution_count": 89,
   "id": "5d31a2bd",
   "metadata": {},
   "outputs": [],
   "source": [
    "# Define the uplink link ends for one-way observable\n",
    "link_ends = dict()\n",
    "link_ends[observation.receiver] = observation.body_reference_point_link_end_id(\"Earth\", \"TrackingStation\")\n",
    "link_ends[observation.transmitter] = observation.body_origin_link_end_id(\"Delfi-C3\")"
   ]
  },
  {
   "cell_type": "code",
   "execution_count": 90,
   "id": "3bf3ffed",
   "metadata": {
    "lines_to_next_cell": 2
   },
   "outputs": [],
   "source": [
    "# Create observation settings for each link/observable\n",
    "link_definition = observation.LinkDefinition(link_ends)\n",
    "observation_settings_list = [observation.one_way_doppler_instantaneous(link_definition)]"
   ]
  },
  {
   "cell_type": "markdown",
   "id": "2e6ea8f6-3522-4522-a938-116e60d8869e",
   "metadata": {
    "lines_to_next_cell": 2
   },
   "source": [
    "### Define Observation Simulation Settings\n",
    "We now have to define the times at which observations are to be simulated. To this end, we will define the settings for the simulation of the individual observations from the previously defined observation models. Bear in mind that these observation simulation settings are not to be confused with the ones to be used when setting up the estimator object, as done just above.\n",
    "\n",
    "Finally, for each observation model, the observation simulation settings set the times at which observations are simulated and defines the viability criteria and noise of the observation.\n",
    "\n",
    "Note that the actual simulation of the observations requires `Observation Simulators`, which are created automatically by the `Estimator` object. Hence, one cannot simulate observations before the creation of an estimator.\n",
    "\n",
    "Also, we recall we had applied a time buffer to our start and end epoch, so it is now the time to remove it."
   ]
  },
  {
   "cell_type": "code",
   "execution_count": 91,
   "id": "edfabcab",
   "metadata": {},
   "outputs": [],
   "source": [
    "# Define observation simulation times for each link (separated by steps of 1 minute)\n",
    "observation_times = np.arange(simulation_start_epoch + time_buffer, simulation_end_epoch - time_buffer, 60.0)\n",
    "observation_simulation_settings = observation.tabulated_simulation_settings(\n",
    "    observation.one_way_instantaneous_doppler_type,\n",
    "    link_definition,\n",
    "    observation_times\n",
    ")"
   ]
  },
  {
   "cell_type": "code",
   "execution_count": 92,
   "id": "ec0595f3",
   "metadata": {},
   "outputs": [],
   "source": [
    "# Add noise levels of roughly 3.3E-12 [s/m] and add this as Gaussian noise to the observation\n",
    "noise_level = 1.0E-3\n",
    "observation.add_gaussian_noise_to_observable(\n",
    "    [observation_simulation_settings],\n",
    "    noise_level,\n",
    "    observation.one_way_instantaneous_doppler_type\n",
    ")"
   ]
  },
  {
   "cell_type": "code",
   "execution_count": 93,
   "id": "cc3cb908",
   "metadata": {
    "lines_to_next_cell": 2
   },
   "outputs": [],
   "source": [
    "# Create viability settings\n",
    "viability_setting = observation.elevation_angle_viability([\"Earth\", \"TrackingStation\"], np.deg2rad(15))\n",
    "observation.add_viability_check_to_all(\n",
    "    [observation_simulation_settings],\n",
    "    [viability_setting]\n",
    ")"
   ]
  },
  {
   "cell_type": "markdown",
   "id": "443cfbc6-51f1-43d3-a493-2ac41039c712",
   "metadata": {
    "lines_to_next_cell": 2
   },
   "source": [
    "## Set up the estimation\n",
    "Using the defined models for the environment, the propagator, and the observations, we can finally set the actual presentation up. In particular, this consists of defining all parameter that should be estimated, the creation of the estimator, and the simulation of the observations.\n",
    "\n",
    "### Defining the parameters to estimate\n",
    "For this example estimation, we decided to estimate the initial state of `Delfi-C3`, its drag coefficient, and the gravitational parameter of Earth."
   ]
  },
  {
   "cell_type": "code",
   "execution_count": 94,
   "id": "97c59b69",
   "metadata": {},
   "outputs": [],
   "source": [
    "# Setup parameters settings to propagate the state transition matrix\n",
    "parameter_settings = estimation_setup.parameter.initial_states(propagator_settings, bodies)"
   ]
  },
  {
   "cell_type": "code",
   "execution_count": 95,
   "id": "87ba68de",
   "metadata": {},
   "outputs": [],
   "source": [
    "# Add estimated parameters to the sensitivity matrix that will be propagated\n",
    "parameter_settings.append(estimation_setup.parameter.gravitational_parameter(\"Earth\"))\n",
    "parameter_settings.append(estimation_setup.parameter.constant_drag_coefficient(\"Delfi-C3\"))"
   ]
  },
  {
   "cell_type": "code",
   "execution_count": 96,
   "id": "fc43913f",
   "metadata": {
    "lines_to_next_cell": 2
   },
   "outputs": [],
   "source": [
    "# Create the parameters that will be estimated\n",
    "parameters_to_estimate = estimation_setup.create_parameter_set(parameter_settings, bodies)"
   ]
  },
  {
   "cell_type": "markdown",
   "id": "d35a5b0f-05c9-4807-bc00-35379c950904",
   "metadata": {
    "lines_to_next_cell": 2
   },
   "source": [
    "### Creating the Estimator object\n",
    "Ultimately, the `Estimator` object consolidates all relevant information required for the estimation of any system parameter:\n",
    "\n",
    "* the environment (bodies)\n",
    "* the parameter set (parameters_to_estimate)\n",
    "* observation models (observation_settings_list)\n",
    "* dynamical, numerical, and integrator setup (propagator_settings)\n",
    "\n",
    "Underneath its hood, upon creation, the estimator automatically takes care of setting up the relevant Observation Simulator and Variational Equations which will subsequently be required for the simulation of observations and the estimation of parameters, respectively."
   ]
  },
  {
   "cell_type": "code",
   "execution_count": 97,
   "id": "673eedf0",
   "metadata": {
    "lines_to_next_cell": 2
   },
   "outputs": [],
   "source": [
    "# Create the estimator\n",
    "estimator = numerical_simulation.Estimator(\n",
    "    bodies,\n",
    "    parameters_to_estimate,\n",
    "    observation_settings_list,\n",
    "    propagator_settings)"
   ]
  },
  {
   "cell_type": "markdown",
   "id": "d09ef07c-bf42-45d9-b0ff-491e607a2213",
   "metadata": {
    "lines_to_next_cell": 2
   },
   "source": [
    "### Perform the observations simulation\n",
    "Using the created `Estimator` object, we can perform the simulation of observations by calling its `simulate_observations()` method, see the [API reference](https://py.api.tudat.space/en/latest/estimation.html#tudatpy.numerical_simulation.estimation.simulate_observations). Note that to know about the time settings for the individual types of observations, this function makes use of the earlier defined observation simulation settings."
   ]
  },
  {
   "cell_type": "code",
   "execution_count": 98,
   "id": "860dbd16",
   "metadata": {},
   "outputs": [],
   "source": [
    "# Simulate required observations\n",
    "simulated_observations = estimation.simulate_observations(\n",
    "    [observation_simulation_settings],\n",
    "    estimator.observation_simulators,\n",
    "    bodies)"
   ]
  },
  {
   "cell_type": "markdown",
   "id": "a2616cee-f2fd-4d00-b14d-a964aab7b779",
   "metadata": {},
   "source": [
    "## Perform the estimation\n",
    "Having simulated the observations and created the `Estimator` object - containing the **variational equations** for the parameters to estimate - we have defined everything to conduct the actual estimation. Realise that up to this point, we have not yet specified whether we want to perform a **covariance analysis** or the **full estimation** of all parameters. It should be stressed that the general setup for either path to be followed is entirely **identical**.\n",
    "\n",
    "### Set up the inversion\n",
    "To set up the inversion of the problem, we collect all relevant inputs in the form of a estimation input object and define some basic settings of the inversion. Most crucially, this is the step where we can account for different **weights** - if any - of the different observations in the `ObservationCollection`, to give the estimator knowledge about the quality of the individual types of observations."
   ]
  },
  {
   "cell_type": "code",
   "execution_count": 99,
   "id": "e5e0c531",
   "metadata": {},
   "outputs": [],
   "source": [
    "simulated_observations.set_constant_weight(noise_level ** -2)"
   ]
  },
  {
   "cell_type": "code",
   "execution_count": 100,
   "id": "4113e805",
   "metadata": {},
   "outputs": [],
   "source": [
    "# Save the true parameters to later analyse the error\n",
    "truth_parameters = parameters_to_estimate.parameter_vector"
   ]
  },
  {
   "cell_type": "code",
   "execution_count": 101,
   "id": "5e8ee36d",
   "metadata": {},
   "outputs": [],
   "source": [
    "# Perturb the initial state estimate from the truth (10 m in position; 0.1 m/s in velocity)\n",
    "perturbed_parameters = truth_parameters.copy( )\n",
    "for i in range(3):\n",
    "    perturbed_parameters[i] += 10.0\n",
    "    perturbed_parameters[i+3] += 0.01"
   ]
  },
  {
   "cell_type": "code",
   "execution_count": 102,
   "id": "08b28924",
   "metadata": {},
   "outputs": [],
   "source": [
    "perturbed_parameters[6] += 1e5\n",
    "perturbed_parameters[7] += 0.01"
   ]
  },
  {
   "cell_type": "code",
   "execution_count": 103,
   "id": "0464c9c8",
   "metadata": {},
   "outputs": [],
   "source": [
    "parameters_to_estimate.parameter_vector = perturbed_parameters"
   ]
  },
  {
   "cell_type": "code",
   "execution_count": 104,
   "id": "64171e8c",
   "metadata": {},
   "outputs": [],
   "source": [
    "# Create input object for the estimation\n",
    "convergence_checker = estimation.estimation_convergence_checker(maximum_iterations=4)\n",
    "estimation_input = estimation.EstimationInput(\n",
    "    simulated_observations,\n",
    "    convergence_checker=convergence_checker)"
   ]
  },
  {
   "cell_type": "code",
   "execution_count": 105,
   "id": "3954a803",
   "metadata": {
    "lines_to_next_cell": 2
   },
   "outputs": [],
   "source": [
    "# Set methodological options\n",
    "estimation_input.define_estimation_settings(\n",
    "    reintegrate_variational_equations=False)"
   ]
  },
  {
   "cell_type": "markdown",
   "id": "e54224e7-c785-4e75-8d12-cda00f7d099c",
   "metadata": {
    "lines_to_next_cell": 2
   },
   "source": [
    "### Estimate the individual parameters\n",
    "Using the just defined inputs, we can ultimately run the estimation of the selected parameters. After a pre-defined maximum number of iterations (the default value is set to a total of five), the least squares estimator - ideally having reached a sufficient level of convergence - will stop with the process of iterating over the problem and updating the parameters."
   ]
  },
  {
   "cell_type": "code",
   "execution_count": 106,
   "id": "b2e73616",
   "metadata": {
    "lines_to_next_cell": 2
   },
   "outputs": [
    {
     "name": "stdout",
     "output_type": "stream",
     "text": [
      "Calculating residuals and partials 59\n",
      "Current residual: 14.0604\n",
      "Parameter update    -26.1432     -13.5053     -16.3786 -0.000146171   -0.0198624   -0.0248741  1.88058e+09  -0.00843802\n",
      "Calculating residuals and partials 59\n",
      "Current residual: 0.0279887\n",
      "Parameter update     15.7994      3.37537      6.61705   -0.0101473   0.00969867    0.0146291 -1.90341e+09  -0.00153908\n",
      "Calculating residuals and partials 59\n",
      "Current residual: 0.00110458\n",
      "Parameter update 8.96218e-05 -6.44971e-05  3.93707e-06  1.34155e-07  -2.1837e-07 -1.34838e-08     -6417.87 -1.93475e-07\n",
      "Calculating residuals and partials 59\n",
      "Current residual: 0.00109337\n",
      "Maximum number of iterations reached\n",
      "Parameter update 1.50479e-06  7.76897e-07 -1.27765e-06  8.00337e-10  3.55945e-11  1.84531e-09      38.8493 -4.64783e-09\n",
      "Final residual: 0.00109337\n"
     ]
    }
   ],
   "source": [
    "# Perform the estimation\n",
    "estimation_output = estimator.perform_estimation(estimation_input)"
   ]
  },
  {
   "cell_type": "markdown",
   "id": "e29bd859-e6da-4b34-835b-88209dc00916",
   "metadata": {
    "lines_to_next_cell": 2
   },
   "source": [
    "## True Errors, Formal Errors\n",
    "\n",
    "Since we have now estimated the actual parameters - unlike when only getting the initial covariance matrix over the course of the orbit, as done in [Delfi-C3 Covariance Analysis example](covariance_estimated_parameters.ipynb) - we are able to qualitatively compare the goodness-of-fit of the found parameters with the known ground truth ones. \n",
    "\n",
    "The common way to perform this comparison is by following these 3 simple steps:\n",
    "\n",
    "1) Compute the formal errors. These are the **diagonal entries of the covariance matrix (variances)**\n",
    "2) Take the difference between the true parameters (known) and the estimated ones (estimated)\n",
    "3) Take the ratio between the results obtained in 2) and 1). This is the true-to-formal-error ratio.\n",
    "\n",
    "Doing this might help highlight that the formal errors one gets as the result of a covariance analysis tend to sketch a too optimistic version of reality - typically, (all or some of) the true errors are by a certain factor larger than the formal ones. In this example, we see that the 3rd, 5th and 8th parameters estimates might be too optimistic, as their true-to-formal ratio is bigger than one. "
   ]
  },
  {
   "cell_type": "code",
   "execution_count": 107,
   "id": "0ab7078c",
   "metadata": {},
   "outputs": [],
   "source": [
    "# Perturb the initial state estimate from the truth (10 m in position; 0.1 m/s in velocity)\n",
    "# Save the true parameters to later analyse the error\n",
    "truth_parameters = parameters_to_estimate.parameter_vector\n",
    "perturbed_parameters = truth_parameters.copy( )\n",
    "for i in range(3):\n",
    "    perturbed_parameters[i] += 10.0\n",
    "    perturbed_parameters[i+3] += 0.01"
   ]
  },
  {
   "cell_type": "code",
   "execution_count": 108,
   "id": "25720bfe",
   "metadata": {},
   "outputs": [],
   "source": [
    "perturbed_parameters[6] += 1e5\n",
    "perturbed_parameters[7] += 0.01"
   ]
  },
  {
   "cell_type": "code",
   "execution_count": 109,
   "id": "3fe1aec0",
   "metadata": {},
   "outputs": [],
   "source": [
    "parameters_to_estimate.parameter_vector = perturbed_parameters"
   ]
  },
  {
   "cell_type": "code",
   "execution_count": 110,
   "id": "fd909aec",
   "metadata": {},
   "outputs": [],
   "source": [
    "# Create input object for the estimation\n",
    "convergence_checker = estimation.estimation_convergence_checker(maximum_iterations=4)\n",
    "estimation_input = estimation.EstimationInput(\n",
    "    simulated_observations,\n",
    "    convergence_checker=convergence_checker)"
   ]
  },
  {
   "cell_type": "code",
   "execution_count": 111,
   "id": "9db4f427",
   "metadata": {},
   "outputs": [],
   "source": [
    "# Set methodological options\n",
    "estimation_input.define_estimation_settings(\n",
    "    reintegrate_variational_equations=False)"
   ]
  },
  {
   "cell_type": "code",
   "execution_count": 112,
   "id": "2802ac77",
   "metadata": {},
   "outputs": [
    {
     "name": "stdout",
     "output_type": "stream",
     "text": [
      "Calculating residuals and partials 59\n",
      "Formal Errors:\n",
      "\n",
      "[2.01309428e-01 1.57844190e-01 1.07627784e-01 1.24859058e-04\n",
      " 1.66318974e-04 1.55529452e-04 1.24090045e+07 1.09842285e-04]\n",
      "\n",
      "Current residual: 14.0603\n",
      "Parameter update   -25.7997    -13.3755    -16.6167 0.000146897  -0.0196985  -0.0246293 1.90328e+09 -0.00846098\n",
      "Calculating residuals and partials 59\n",
      "Current residual: 0.0279885\n",
      "Parameter update     15.7996      3.37561      6.61666    -0.010147   0.00969875    0.0146293 -1.90337e+09  -0.00153882\n",
      "Calculating residuals and partials 59\n",
      "Current residual: 0.00110458\n",
      "Parameter update 8.91881e-05 -6.45257e-05  3.62851e-06  1.34269e-07 -2.18493e-07 -1.39994e-08     -6357.31 -1.97363e-07\n",
      "Calculating residuals and partials 59\n",
      "Current residual: 0.00109337\n",
      "Maximum number of iterations reached\n",
      "Parameter update-6.41814e-07 -5.76395e-07  1.07842e-06 -8.21259e-10  -5.2144e-11 -9.88119e-10     -82.9754  -8.5471e-10\n",
      "Final residual: 0.00109337\n"
     ]
    }
   ],
   "source": [
    "# Print the formal errors (diagonal entries of the covariance matrix) and the true-to-formal-errors.\n",
    "# Perform the estimation\n",
    "estimation_output = estimator.perform_estimation(estimation_input)\n",
    "formal_errors = estimation_output.formal_errors #formal errors\n",
    "print(f'Formal Errors:\\n\\n{formal_errors}\\n')"
   ]
  },
  {
   "cell_type": "code",
   "execution_count": 113,
   "id": "a6df0722",
   "metadata": {},
   "outputs": [
    {
     "name": "stdout",
     "output_type": "stream",
     "text": [
      "True Errors:\n",
      "\n",
      "[ 1.72993168e-06  1.00143370e-06 -1.16974115e-06  1.08047971e-09\n",
      "  1.09139364e-11  2.27873898e-09  2.36250000e+01  5.89554028e-09]\n",
      "\n"
     ]
    }
   ],
   "source": [
    "true_errors = truth_parameters - parameters_to_estimate.parameter_vector #true_parameters - estimated_parameters = true error\n",
    "print(f'True Errors:\\n\\n{true_errors}\\n') "
   ]
  },
  {
   "cell_type": "code",
   "execution_count": 114,
   "id": "244f2ab4",
   "metadata": {
    "lines_to_next_cell": 2
   },
   "outputs": [
    {
     "name": "stdout",
     "output_type": "stream",
     "text": [
      "True-To-Formal-Error Ratio:\n",
      "\n",
      "[ 8.59339625e-06  6.34444449e-06 -1.08683939e-05  8.65359488e-06\n",
      "  6.56205132e-08  1.46514949e-05  1.90385941e-06  5.36727752e-05]\n",
      "\n"
     ]
    }
   ],
   "source": [
    "true_to_formal_ratio = true_errors/formal_errors #true-to-formal-error ratio\n",
    "print(f'True-To-Formal-Error Ratio:\\n\\n{true_to_formal_ratio}\\n') "
   ]
  },
  {
   "cell_type": "markdown",
   "id": "e4ff9f81-4b85-4496-974a-099e2054d4ae",
   "metadata": {
    "lines_to_next_cell": 2
   },
   "source": [
    "## Post-Processing Results\n",
    "Perfect, we have got our results. Now it is time to make sense of them. To further process them, one can - exemplary - plot:\n",
    "\n",
    "1) the **behaviour of the simulated observations over time**;\n",
    "2) the **history of the residuals**;\n",
    "3) the **statistical interpretation of the final residuals**.\n",
    "\n",
    "### Range-rate over time\n",
    "First, we will thus plot all simulations we have simulated over time. One can clearly see how the satellite slowly emerges from the horizon and then more 'quickly' passes the station, until the visibility criterion is not fulfilled anymore."
   ]
  },
  {
   "cell_type": "code",
   "execution_count": 115,
   "id": "70768252",
   "metadata": {},
   "outputs": [],
   "source": [
    "observation_times = np.array(simulated_observations.concatenated_times)\n",
    "observations_list = np.array(simulated_observations.concatenated_observations)"
   ]
  },
  {
   "cell_type": "code",
   "execution_count": 116,
   "id": "30378060",
   "metadata": {},
   "outputs": [
    {
     "data": {
      "text/plain": [
       "<matplotlib.collections.PathCollection at 0x1223e2650>"
      ]
     },
     "execution_count": 116,
     "metadata": {},
     "output_type": "execute_result"
    },
    {
     "data": {
      "image/png": "[encoded data removed]",
      "text/plain": [
       "<Figure size 900x500 with 1 Axes>"
      ]
     },
     "metadata": {},
     "output_type": "display_data"
    }
   ],
   "source": [
    "plt.figure(figsize=(9, 5))\n",
    "plt.title(\"Observations as a function of time\")\n",
    "plt.scatter(observation_times / 3600.0, observations_list)"
   ]
  },
  {
   "cell_type": "code",
   "execution_count": 117,
   "id": "6dc07801",
   "metadata": {},
   "outputs": [
    {
     "data": {
      "image/png": "[encoded data removed]",
      "text/plain": [
       "<Figure size 640x480 with 1 Axes>"
      ]
     },
     "metadata": {},
     "output_type": "display_data"
    }
   ],
   "source": [
    "plt.xlabel(\"Time [hr]\")\n",
    "plt.ylabel(\"Range rate [m/s]\")\n",
    "plt.grid()"
   ]
  },
  {
   "cell_type": "code",
   "execution_count": 118,
   "id": "9a7579e5",
   "metadata": {
    "lines_to_next_cell": 2
   },
   "outputs": [
    {
     "data": {
      "text/plain": [
       "<Figure size 640x480 with 0 Axes>"
      ]
     },
     "metadata": {},
     "output_type": "display_data"
    }
   ],
   "source": [
    "plt.tight_layout()\n",
    "plt.show()"
   ]
  },
  {
   "cell_type": "markdown",
   "id": "6a1cda95-da56-49d5-aff0-feb792b46f38",
   "metadata": {
    "lines_to_next_cell": 2
   },
   "source": [
    "### Residuals history\n",
    "One might also opt to instead plot the **behaviour of the residuals** per iteration of the estimator. To this end, we have thus plotted the residuals of the individual observations as a function of time. Note that we can observe a seemingly equal spread around zero. As expected - since we have not defined it this way - the observation is thus not biased."
   ]
  },
  {
   "cell_type": "code",
   "execution_count": 119,
   "id": "df49832e",
   "metadata": {},
   "outputs": [],
   "source": [
    "residual_history = estimation_output.residual_history"
   ]
  },
  {
   "cell_type": "code",
   "execution_count": 120,
   "id": "b06b77ca",
   "metadata": {},
   "outputs": [
    {
     "data": {
      "image/png": "[encoded data removed]",
      "text/plain": [
       "<Figure size 900x600 with 4 Axes>"
      ]
     },
     "metadata": {},
     "output_type": "display_data"
    }
   ],
   "source": [
    "fig, ((ax1, ax2), (ax3, ax4)) = plt.subplots(2, 2, figsize=(9, 6))\n",
    "subplots_list = [ax1, ax2, ax3, ax4]\n",
    "for i in range(4):\n",
    "    subplots_list[i].scatter(observation_times, residual_history[:, i])\n",
    "    subplots_list[i].set_ylabel(\"Observation Residual [m/s]\")\n",
    "    subplots_list[i].set_title(\"Iteration \"+str(i+1))\n",
    "\n",
    "ax3.set_xlabel(\"Time since J2000 [s]\")\n",
    "ax4.set_xlabel(\"Time since J2000 [s]\")\n",
    "plt.tight_layout()\n",
    "plt.show()"
   ]
  },
  {
   "cell_type": "markdown",
   "id": "a70d1a8f-a879-4dcf-8f2b-b73c2a363ca9",
   "metadata": {
    "lines_to_next_cell": 2
   },
   "source": [
    "### Final residuals\n",
    "Finally, one can plot the **statistical distribution of the final residuals** between the simulated observations and the estimated orbit. Ideally, given the type of observable we have used (i.e. free of any bias) as well as a statistically sufficient high number of observations, we would expect to see a Gaussian distribution with zero mean here."
   ]
  },
  {
   "cell_type": "code",
   "execution_count": 121,
   "id": "78181718",
   "metadata": {},
   "outputs": [],
   "source": [
    "final_residuals = estimation_output.final_residuals"
   ]
  },
  {
   "cell_type": "code",
   "execution_count": 125,
   "id": "cb1d2457",
   "metadata": {},
   "outputs": [
    {
     "data": {
      "image/png": "[encoded data removed]",
      "text/plain": [
       "<Figure size 900x500 with 1 Axes>"
      ]
     },
     "metadata": {},
     "output_type": "display_data"
    }
   ],
   "source": [
    "plt.figure(figsize=(9,5))\n",
    "plt.hist(final_residuals, 25)\n",
    "plt.xlabel('Final iteration range-rate residual [m/s]')\n",
    "plt.ylabel('Occurrences [-]')\n",
    "plt.title('Histogram of residuals on final iteration')\n",
    "plt.tight_layout()\n",
    "plt.show()\n",
    "plt.show()"
   ]
  }
 ],
 "metadata": {
  "jupytext": {
   "cell_metadata_filter": "-all",
   "main_language": "python",
   "notebook_metadata_filter": "-all"
  },
  "kernelspec": {
   "display_name": "Python (tudat-bundle)",
   "language": "python",
   "name": "tudat-bundle_updated"
  },
  "language_info": {
   "codemirror_mode": {
    "name": "ipython",
    "version": 3
   },
   "file_extension": ".py",
   "mimetype": "text/x-python",
   "name": "python",
   "nbconvert_exporter": "python",
   "pygments_lexer": "ipython3",
   "version": "3.11.12"
  }
 },
 "nbformat": 4,
 "nbformat_minor": 5
}
