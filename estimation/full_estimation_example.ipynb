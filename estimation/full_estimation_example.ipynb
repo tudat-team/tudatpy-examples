{
 "cells": [
  {
   "cell_type": "markdown",
   "id": "a3a6b76b-aae8-43f8-b627-4e87a9ea552e",
   "metadata": {},
   "source": [
    "# Parameter Estimation with DELFI-C3\n",
    "## Objectives\n",
    "This example will guide you through the set-up of an orbit estimation routine, which usually comprises the estimation of the covariance, as well as the estimation of the initial parameters. In this example we will focus on the latter, and you'll learn: \n",
    " \n",
    "* how to set up and perform the **full estimation** of a spacecraft's initial state, drag coefficient, and radiation pressure coefficient\n",
    " \n",
    "For the **covariance analysis** over the course of the spacecraft's orbit see the [Delfi-C3 Covariance Analysis example](covariance_estimated_parameters.ipynb).\n",
    " \n",
    "If you have already followed the covariance example, you might want to **skip the first part of this example** dealing with the setup of all relevant (environment, propagation, and estimation) modules, and dive straight in to the full estimation of all chosen parameters.\n",
    " \n",
    "To simulate the orbit of a spacecraft, we will fall back and reiterate on all aspects of orbit propagation that are important within the scope of orbit estimation. Further, we will highlight all relevant features of modelling a tracking station on Earth. Using this station, we will simulate a tracking routine of the spacecraft using a series of open-loop Doppler range-rate measurements at 1 mm/s every 60 seconds. To assure an uninterrupted line-of-sight between the station and the spacecraft, a minimum elevation angle of more than 15 degrees above the horizon - as seen from the station - will be imposed as constraint on the simulation of observations."
   ]
  },
  {
   "cell_type": "markdown",
   "id": "e99cbeda",
   "metadata": {},
   "source": [
    "## Import statements\n",
    "Typically - in the most pythonic way - all required modules are imported at the very beginning.\n",
    "\n",
    "Some standard modules are first loaded: `numpy` and `matplotlib.pyplot`.\n",
    "\n",
    "Then, the different modules of `tudatpy` that will be used are imported. Most notably, the `estimation`, `estimation_setup`, and `observations` modules will be used and demonstrated within this example."
   ]
  },
  {
   "cell_type": "code",
   "execution_count": 1,
   "id": "b71677c3",
   "metadata": {
    "is_executing": true
   },
   "outputs": [],
   "source": [
    "# Load required standard modules\n",
    "import numpy as np\n",
    "from matplotlib import pyplot as plt\n",
    "\n",
    "# Load required tudatpy modules\n",
    "from tudatpy import constants\n",
    "from tudatpy.interface import spice\n",
    "from tudatpy import numerical_simulation\n",
    "from tudatpy.numerical_simulation import environment\n",
    "from tudatpy.numerical_simulation import environment_setup\n",
    "from tudatpy.numerical_simulation import propagation_setup\n",
    "from tudatpy.numerical_simulation import estimation, estimation_setup\n",
    "from tudatpy.numerical_simulation.estimation_setup import observation\n",
    "from tudatpy.astro.time_conversion import DateTime\n",
    "from tudatpy.astro import element_conversion"
   ]
  },
  {
   "cell_type": "markdown",
   "id": "707bd319",
   "metadata": {},
   "source": [
    "## Configuration\n",
    "First, NAIF's `SPICE` kernels are loaded, to make the positions of various bodies such as the Earth, the Sun, or the Moon known to `tudatpy`.\n",
    " \n",
    "Subsequently, the start and end epoch of the simulation are defined. Note that using `tudatpy`, the times are generally specified in seconds since J2000. Hence, setting the start epoch to `0` corresponds to the 1st of January 2000. The end epoch specifies a total duration of the simulation of three days.\n",
    " \n",
    "For more information on J2000 and the conversion between different temporal reference frames, please refer to the [API documentation](https://py.api.tudat.space/en/latest/time_conversion.html) of the `time_conversion` module."
   ]
  },
  {
   "cell_type": "code",
   "execution_count": 2,
   "id": "e336516b",
   "metadata": {},
   "outputs": [],
   "source": [
    "# Load spice kernels\n",
    "spice.load_standard_kernels()\n",
    "\n",
    "# Set simulation start and end epochs\n",
    "simulation_start_epoch = DateTime(2000, 1, 1).epoch()\n",
    "simulation_end_epoch   = DateTime(2000, 1, 4).epoch()"
   ]
  },
  {
   "cell_type": "markdown",
   "id": "dd2cea53",
   "metadata": {},
   "source": [
    "## Set up the environment\n",
    "We will now create and define the settings for the environment of our simulation. In particular, this covers the creation of (celestial) bodies, vehicle(s), and environment interfaces.\n",
    " \n",
    "### Create the main bodies\n",
    "To create the systems of bodies for the simulation, one first has to define a list of strings of all bodies that are to be included. Note that the default body settings (such as atmosphere, body shape, rotation model) are taken from the `SPICE` kernel.\n",
    " \n",
    "These settings, however, can be adjusted. Please refer to the [Available Environment Models](https://docs.tudat.space/en/latest/_src_user_guide/state_propagation/environment_setup/environment_models.html#available-model-types) in the user guide for more details.\n",
    " \n",
    "Finally, the system of bodies is created using the settings. This system of bodies is stored into the variable `bodies`."
   ]
  },
  {
   "cell_type": "code",
   "execution_count": 3,
   "id": "4563c7d1",
   "metadata": {},
   "outputs": [],
   "source": [
    "# Create default body settings for \"Sun\", \"Earth\", \"Moon\", \"Mars\", and \"Venus\"\n",
    "bodies_to_create = [\"Sun\", \"Earth\", \"Moon\", \"Mars\", \"Venus\"]\n",
    "\n",
    "# Create default body settings for bodies_to_create, with \"Earth\"/\"J2000\" as the global frame origin and orientation\n",
    "global_frame_origin = \"Earth\"\n",
    "global_frame_orientation = \"J2000\"\n",
    "body_settings = environment_setup.get_default_body_settings(\n",
    "    bodies_to_create, global_frame_origin, global_frame_orientation)"
   ]
  },
  {
   "cell_type": "markdown",
   "id": "f1b002c1",
   "metadata": {},
   "source": [
    "### Create the vehicle and its environment interface\n",
    "We will now create the satellite - called Delfi-C3 - for which an orbit will be simulated. Using an `empty_body` as a blank canvas for the satellite, we define mass of 2.2 kg, a reference area (used both for aerodynamic and radiation pressure) of 4m$^2$, and a aerodynamic drag coefficient of 1.2. Idem for the radiation pressure coefficient. Finally, when setting up the radiation pressure interface, the Earth is set as a body that can occult the radiation emitted by the Sun."
   ]
  },
  {
   "cell_type": "code",
   "execution_count": 4,
   "id": "1585b93e",
   "metadata": {},
   "outputs": [],
   "source": [
    "# Create empty body settings for the satellite\n",
    "body_settings.add_empty_settings(\"Delfi-C3\")\n",
    "\n",
    "body_settings.get(\"Delfi-C3\").constant_mass = 2.2\n",
    "\n",
    "# Create aerodynamic coefficient interface settings\n",
    "reference_area_drag = (4*0.3*0.1+2*0.1*0.1)/4  # Average projection area of a 3U CubeSat\n",
    "drag_coefficient = 1.2\n",
    "aero_coefficient_settings = environment_setup.aerodynamic_coefficients.constant(\n",
    "    reference_area_drag, [drag_coefficient, 0.0, 0.0]\n",
    ")\n",
    "\n",
    "# Add the aerodynamic interface to the body settings\n",
    "body_settings.get(\"Delfi-C3\").aerodynamic_coefficient_settings = aero_coefficient_settings\n",
    "\n",
    "# Create radiation pressure settings\n",
    "reference_area_radiation = (4*0.3*0.1+2*0.1*0.1)/4  # Average projection area of a 3U CubeSat\n",
    "radiation_pressure_coefficient = 1.2\n",
    "occulting_bodies_dict = dict()\n",
    "occulting_bodies_dict[\"Sun\"] = [\"Earth\"]\n",
    "vehicle_target_settings = environment_setup.radiation_pressure.cannonball_radiation_target(\n",
    "    reference_area_radiation, radiation_pressure_coefficient, occulting_bodies_dict )\n",
    "\n",
    "\n",
    "# Add the radiation pressure interface to the body settings\n",
    "body_settings.get(\"Delfi-C3\").radiation_pressure_target_settings = vehicle_target_settings"
   ]
  },
  {
   "cell_type": "markdown",
   "id": "bcd6a569",
   "metadata": {},
   "source": [
    "Finally, the system of bodies is created using the settings. This system of bodies is stored into the variable `bodies`."
   ]
  },
  {
   "cell_type": "code",
   "execution_count": 5,
   "id": "97d7ba4a",
   "metadata": {},
   "outputs": [],
   "source": [
    "# Create system of bodies\n",
    "bodies = environment_setup.create_system_of_bodies(body_settings)"
   ]
  },
  {
   "cell_type": "markdown",
   "id": "8bc428bc",
   "metadata": {},
   "source": [
    "## Set up the propagation\n",
    "Having the environment created, we will define the settings for the propagation of the spacecraft. First, we have to define the body to be propagated - here, the spacecraft - and the central body - here, Earth - with respect to which the state of the propagated body is defined."
   ]
  },
  {
   "cell_type": "code",
   "execution_count": 6,
   "id": "f4c79591",
   "metadata": {},
   "outputs": [],
   "source": [
    "# Define bodies that are propagated\n",
    "bodies_to_propagate = [\"Delfi-C3\"]\n",
    "\n",
    "# Define central bodies of propagation\n",
    "central_bodies = [\"Earth\"]"
   ]
  },
  {
   "cell_type": "markdown",
   "id": "a615dbcd",
   "metadata": {},
   "source": [
    "### Create the acceleration model\n",
    "Subsequently, all accelerations (and there settings) that act on `Delfi-C3` have to be defined. In particular, we will consider:\n",
    "\n",
    "* Gravitational acceleration using a spherical harmonic approximation up to 8th degree and order for Earth.\n",
    "* Aerodynamic acceleration for Earth.\n",
    "* Gravitational acceleration using a simple point mass model for:\n",
    "\n",
    "  - The Sun\n",
    "  - The Moon\n",
    "  - Mars\n",
    "\n",
    "* Radiation pressure experienced by the spacecraft - shape-wise approximated as a spherical cannonball - due to the Sun.\n",
    "\n",
    "The defined acceleration settings are then applied to `Delfi-C3` by means of a dictionary, which is finally used as input to the propagation setup to create the acceleration models."
   ]
  },
  {
   "cell_type": "code",
   "execution_count": 7,
   "id": "ae320f6d",
   "metadata": {},
   "outputs": [],
   "source": [
    "# Define the accelerations acting on Delfi-C3\n",
    "accelerations_settings_delfi_c3 = dict(\n",
    "    Sun=[\n",
    "        propagation_setup.acceleration.radiation_pressure(),\n",
    "        propagation_setup.acceleration.point_mass_gravity()\n",
    "    ],\n",
    "    Mars=[\n",
    "        propagation_setup.acceleration.point_mass_gravity()\n",
    "    ],\n",
    "    Moon=[\n",
    "        propagation_setup.acceleration.point_mass_gravity()\n",
    "    ],\n",
    "    Earth=[\n",
    "        propagation_setup.acceleration.spherical_harmonic_gravity(8, 8),\n",
    "        propagation_setup.acceleration.aerodynamic()\n",
    "    ])\n",
    "\n",
    "# Create global accelerations dictionary\n",
    "acceleration_settings = {\"Delfi-C3\": accelerations_settings_delfi_c3}\n",
    "\n",
    "# Create acceleration models\n",
    "acceleration_models = propagation_setup.create_acceleration_models(\n",
    "    bodies,\n",
    "    acceleration_settings,\n",
    "    bodies_to_propagate,\n",
    "    central_bodies)"
   ]
  },
  {
   "cell_type": "markdown",
   "id": "f4a73dba",
   "metadata": {},
   "source": [
    "### Define the initial state\n",
    "Realise that the initial state of the spacecraft always has to be provided as a cartesian state - i.e. in the form of a list with the first three elements representing the initial position, and the three remaining elements representing the initial velocity.\n",
    "\n",
    "Within this example, we will retrieve the initial state of Delfi-C3 using its Two-Line-Elements (TLE) the date of its launch (April the 28th, 2008). The TLE strings are obtained from [space-track.org](https://www.space-track.org)."
   ]
  },
  {
   "cell_type": "code",
   "execution_count": 8,
   "id": "12458abf",
   "metadata": {},
   "outputs": [],
   "source": [
    "# Retrieve the initial state of Delfi-C3 using Two-Line-Elements (TLEs)\n",
    "delfi_tle = environment.Tle(\n",
    "    \"1 32789U 07021G   08119.60740078 -.00000054  00000-0  00000+0 0  9999\",\n",
    "    \"2 32789 098.0082 179.6267 0015321 307.2977 051.0656 14.81417433    68\",\n",
    ")\n",
    "delfi_ephemeris = environment.TleEphemeris(\"Earth\", \"J2000\", delfi_tle, False)\n",
    "initial_state = delfi_ephemeris.cartesian_state( simulation_start_epoch )"
   ]
  },
  {
   "cell_type": "markdown",
   "id": "cd8e2587",
   "metadata": {},
   "source": [
    "### Create the integrator settings\n",
    "For the problem at hand, we will use an RKF78 integrator with a fixed step-size of 60 seconds. This can be achieved by tweaking the implemented RKF78 integrator with variable step-size such that both the minimum and maximum step-size is equal to 60 seconds and a tolerance of 1.0"
   ]
  },
  {
   "cell_type": "code",
   "execution_count": 9,
   "id": "44edeb70",
   "metadata": {},
   "outputs": [],
   "source": [
    "# Create numerical integrator settings\n",
    "integrator_settings = propagation_setup.integrator.\\\n",
    "    runge_kutta_fixed_step_size(initial_time_step=60.0,\n",
    "                                coefficient_set=propagation_setup.integrator.CoefficientSets.rkdp_87)"
   ]
  },
  {
   "cell_type": "markdown",
   "id": "9b418ed1",
   "metadata": {},
   "source": [
    "### Create the propagator settings\n",
    "By combining all of the above-defined settings we can define the settings for the propagator to simulate the orbit of `Delfi-C3` around Earth. A termination condition needs to be defined so that the propagation stops as soon as the specified end epoch is reached. Finally, the translational propagator's settings are created."
   ]
  },
  {
   "cell_type": "code",
   "execution_count": 10,
   "id": "0e21ddd0",
   "metadata": {},
   "outputs": [],
   "source": [
    "# Create termination settings\n",
    "termination_condition = propagation_setup.propagator.time_termination(simulation_end_epoch)\n",
    "\n",
    "# Create propagation settings\n",
    "propagator_settings = propagation_setup.propagator.translational(\n",
    "    central_bodies,\n",
    "    acceleration_models,\n",
    "    bodies_to_propagate,\n",
    "    initial_state,\n",
    "    simulation_start_epoch,\n",
    "    integrator_settings,\n",
    "    termination_condition\n",
    ")"
   ]
  },
  {
   "cell_type": "markdown",
   "id": "956c9ebe",
   "metadata": {},
   "source": [
    "## Set up the observations\n",
    "Having set the underlying dynamical model of the simulated orbit, we can define the observational model. Generally, this entails the addition all required ground stations, the definition of the observation links and types, as well as the precise simulation settings.\n",
    "\n",
    "### Add a ground station\n",
    "Trivially, the simulation of observations requires the extension of the current environment by at least one observer - a ground station. For this example, we will model a single ground station located in Delft, Netherlands, at an altitude of 0m, 52.00667°N, 4.35556°E.\n",
    "\n",
    "More information on how to use the `add_ground_station()` function can be found in the respective [API documentation](https://py.api.tudat.space/en/latest/environment_setup.html#tudatpy.numerical_simulation.environment_setup.add_ground_station)."
   ]
  },
  {
   "cell_type": "code",
   "execution_count": 11,
   "id": "4eebd846",
   "metadata": {},
   "outputs": [],
   "source": [
    "# Define the position of the ground station on Earth\n",
    "station_altitude = 0.0\n",
    "delft_latitude = np.deg2rad(52.00667)\n",
    "delft_longitude = np.deg2rad(4.35556)\n",
    "\n",
    "# Add the ground station to the environment\n",
    "environment_setup.add_ground_station(\n",
    "    bodies.get_body(\"Earth\"),\n",
    "    \"TrackingStation\",\n",
    "    [station_altitude, delft_latitude, delft_longitude],\n",
    "    element_conversion.geodetic_position_type)"
   ]
  },
  {
   "cell_type": "markdown",
   "id": "451a76c7",
   "metadata": {},
   "source": [
    "### Define Observation Links and Types\n",
    "To establish the links between our ground station and `Delfi-C3`, we will make use of the [observation module](https://py.api.tudat.space/en/latest/observation.html#observation) of tudat. During th link definition, each member is assigned a certain function within the link, for instance as \"transmitter\", \"receiver\", or \"reflector\". Once two (or more) members are connected to a link, they can be used to simulate observations along this particular link. The precise type of observation made along this link - e.g., range, range-rate, angular position, etc. - is then determined by the chosen observable type.\n",
    "\n",
    "To fully define an observation model for a given link, we have to create a list of the observation model settings of all desired observable types and their associated links. This list will later be used as input to the actual estimator object.\n",
    "\n",
    "Each observable type has its own function for creating observation model settings - in this example we will use the `one_way_doppler_instantaneous()` function to model a series of one-way open-loop (i.e. instantaneous) Doppler observations. Realise that the individual observation model settings can also include corrective models or define biases for more advanced use-cases."
   ]
  },
  {
   "cell_type": "code",
   "execution_count": 12,
   "id": "8a19c012",
   "metadata": {},
   "outputs": [],
   "source": [
    "# Define the uplink link ends for one-way observable\n",
    "link_ends = dict()\n",
    "link_ends[observation.transmitter] = observation.body_reference_point_link_end_id(\"Earth\", \"TrackingStation\")\n",
    "link_ends[observation.receiver] = observation.body_origin_link_end_id(\"Delfi-C3\")\n",
    "\n",
    "# Create observation settings for each link/observable\n",
    "link_definition = observation.LinkDefinition(link_ends)\n",
    "observation_settings_list = [observation.one_way_doppler_instantaneous(link_definition)]"
   ]
  },
  {
   "cell_type": "markdown",
   "id": "f9b8518a",
   "metadata": {},
   "source": [
    "### Define Observation Simulation Settings\n",
    "We now have to define the times at which observations are to be simulated. To this end, we will define the settings for the simulation of the individual observations from the previously defined observation models. Bear in mind that these observation simulation settings are not to be confused with the ones to be used when setting up the estimator object, as done just above.\n",
    "\n",
    "Finally, for each observation model, the observation simulation settings set the times at which observations are simulated and defines the viability criteria and noise of the observation.\n",
    "\n",
    "Note that the actual simulation of the observations requires `Observation Simulators`, which are created automatically by the `Estimator` object. Hence, one cannot simulate observations before the creation of an estimator."
   ]
  },
  {
   "cell_type": "code",
   "execution_count": 13,
   "id": "48d30336",
   "metadata": {},
   "outputs": [],
   "source": [
    "# Define observation simulation times for each link (separated by steps of 1 minute)\n",
    "observation_times = np.arange(simulation_start_epoch, simulation_end_epoch, 60.0)\n",
    "observation_simulation_settings = observation.tabulated_simulation_settings(\n",
    "    observation.one_way_instantaneous_doppler_type,\n",
    "    link_definition,\n",
    "    observation_times\n",
    ")\n",
    "\n",
    "# Add noise levels of roughly 3.3E-12 [s/m] and add this as Gaussian noise to the observation\n",
    "noise_level = 1.0E-3\n",
    "observation.add_gaussian_noise_to_observable(\n",
    "    [observation_simulation_settings],\n",
    "    noise_level,\n",
    "    observation.one_way_instantaneous_doppler_type\n",
    ")\n",
    "\n",
    "# Create viability settings\n",
    "viability_setting = observation.elevation_angle_viability([\"Earth\", \"TrackingStation\"], np.deg2rad(15))\n",
    "observation.add_viability_check_to_all(\n",
    "    [observation_simulation_settings],\n",
    "    [viability_setting]\n",
    ")"
   ]
  },
  {
   "cell_type": "markdown",
   "id": "ee6a84e0",
   "metadata": {},
   "source": [
    "## Set up the estimation\n",
    "Using the defined models for the environment, the propagator, and the observations, we can finally set the actual presentation up. In particular, this consists of defining all parameter that should be estimated, the creation of the estimator, and the simulation of the observations.\n",
    "\n",
    "### Defining the parameters to estimate\n",
    "For this example estimation, we decided to estimate the initial state of `Delfi-C3`, its drag coefficient, and the gravitational parameter of Earth."
   ]
  },
  {
   "cell_type": "code",
   "execution_count": 14,
   "id": "44bf1b2a",
   "metadata": {},
   "outputs": [],
   "source": [
    "# Setup parameters settings to propagate the state transition matrix\n",
    "parameter_settings = estimation_setup.parameter.initial_states(propagator_settings, bodies)\n",
    "\n",
    "# Add estimated parameters to the sensitivity matrix that will be propagated\n",
    "parameter_settings.append(estimation_setup.parameter.gravitational_parameter(\"Earth\"))\n",
    "parameter_settings.append(estimation_setup.parameter.constant_drag_coefficient(\"Delfi-C3\"))\n",
    "\n",
    "# Create the parameters that will be estimated\n",
    "parameters_to_estimate = estimation_setup.create_parameter_set(parameter_settings, bodies)"
   ]
  },
  {
   "cell_type": "markdown",
   "id": "5c248e5c",
   "metadata": {},
   "source": [
    "### Creating the Estimator object\n",
    "Ultimately, the `Estimator` object consolidates all relevant information required for the estimation of any system parameter:\n",
    "\n",
    "* the environment (bodies)\n",
    "* the parameter set (parameters_to_estimate)\n",
    "* observation models (observation_settings_list)\n",
    "* dynamical, numerical, and integrator setup (propagator_settings)\n",
    "\n",
    "Underneath its hood, upon creation, the estimator automatically takes care of setting up the relevant Observation Simulator and Variational Equations which will subsequently be required for the simulation of observations and the estimation of parameters, respectively.\n"
   ]
  },
  {
   "cell_type": "code",
   "execution_count": 15,
   "id": "bd694993",
   "metadata": {},
   "outputs": [],
   "source": [
    "# Create the estimator\n",
    "estimator = numerical_simulation.Estimator(\n",
    "    bodies,\n",
    "    parameters_to_estimate,\n",
    "    observation_settings_list,\n",
    "    propagator_settings)"
   ]
  },
  {
   "cell_type": "markdown",
   "id": "1f7cad02",
   "metadata": {},
   "source": [
    "### Perform the observations simulation\n",
    "Using the created `Estimator` object, we can perform the simulation of observations by calling its `simulate_observations()` method, see the [API reference](https://py.api.tudat.space/en/latest/estimation.html#tudatpy.numerical_simulation.estimation.simulate_observations). Note that to know about the time settings for the individual types of observations, this function makes use of the earlier defined observation simulation settings.\n"
   ]
  },
  {
   "cell_type": "code",
   "execution_count": 16,
   "id": "e66fd2ac",
   "metadata": {},
   "outputs": [],
   "source": [
    "# Simulate required observations\n",
    "simulated_observations = estimation.simulate_observations(\n",
    "    [observation_simulation_settings],\n",
    "    estimator.observation_simulators,\n",
    "    bodies)"
   ]
  },
  {
   "cell_type": "markdown",
   "id": "56cd3526",
   "metadata": {},
   "source": [
    "## Perform the estimation\n",
    "Having simulated the observations and created the `Estimator` object - containing the **variational equations** for the parameters to estimate - we have defined everything to conduct the actual estimation. Realise that up to this point, we have not yet specified whether we want to perform a **covariance analysis** or the **full estimation** of all parameters. It should be stressed that the general setup for either path to be followed is entirely **identical**.\n",
    "\n",
    "### Set up the inversion\n",
    "To set up the inversion of the problem, we collect all relevant inputs in the form of a estimation input object and define some basic settings of the inversion. Most crucially, this is the step where we can account for different **weights** - if any - of the different observations, to give the estimator knowledge about the quality of the individual types of observations."
   ]
  },
  {
   "cell_type": "code",
   "execution_count": 17,
   "id": "a1478bbc",
   "metadata": {},
   "outputs": [
    {
     "name": "stdout",
     "output_type": "stream",
     "text": [
      "[-2.86506915e+06 -1.81810499e+05 -6.40693678e+06  6.27519638e+03\n",
      "  2.96693121e+03 -2.89377723e+03  3.98600442e+14  1.20000000e+00]\n"
     ]
    },
    {
     "name": "stderr",
     "output_type": "stream",
     "text": [
      "Warning, function setConstantPerObservableWeightsMatrix is deprecated, weights should preferably be defined at the observation collection level."
     ]
    }
   ],
   "source": [
    "# Save the true parameters to later analyse the error\n",
    "truth_parameters = parameters_to_estimate.parameter_vector\n",
    "\n",
    "print(truth_parameters)\n",
    "\n",
    "# Perturb the initial state estimate from the truth (10 m in position; 0.1 m/s in velocity)\n",
    "perturbed_parameters = truth_parameters.copy( )\n",
    "for i in range(3):\n",
    "    perturbed_parameters[i] += 10.0\n",
    "    perturbed_parameters[i+3] += 0.01\n",
    "\n",
    "perturbed_parameters[6] += 1e5\n",
    "perturbed_parameters[7] += 0.01\n",
    "\n",
    "parameters_to_estimate.parameter_vector = perturbed_parameters\n",
    "\n",
    "# Create input object for the estimation\n",
    "convergence_checker = estimation.estimation_convergence_checker(maximum_iterations=4)\n",
    "estimation_input = estimation.EstimationInput(\n",
    "    simulated_observations,\n",
    "    convergence_checker=convergence_checker)\n",
    "\n",
    "# Set methodological options\n",
    "estimation_input.define_estimation_settings(\n",
    "    reintegrate_variational_equations=False)\n",
    "\n",
    "# Define weighting of the observations in the inversion\n",
    "weights_per_observable = {estimation_setup.observation.one_way_instantaneous_doppler_type: noise_level ** -2}\n",
    "estimation_input.set_constant_weight_per_observable(weights_per_observable)"
   ]
  },
  {
   "cell_type": "markdown",
   "id": "39f16498",
   "metadata": {},
   "source": [
    "### Estimate the individual parameters\n",
    "Using the just defined inputs, we can ultimately run the estimation of the selected parameters. After a pre-defined maximum number of iterations (the default value is set to a total of five), the least squares estimator - ideally having reached a sufficient level of convergence - will stop with the process of iterating over the problem and updating the parameters.\n"
   ]
  },
  {
   "cell_type": "code",
   "execution_count": 18,
   "id": "fcb86d74",
   "metadata": {},
   "outputs": [
    {
     "name": "stdout",
     "output_type": "stream",
     "text": [
      "Calculating residuals and partials 59\n",
      "Current residual: 13.5181\n",
      "Parameter update    -24.3605     -13.2142     -16.3933 -0.000520014   -0.0185771   -0.0233652  1.76918e+09    -0.008711\n",
      "Calculating residuals and partials 59\n",
      "Current residual: 0.0258206\n",
      "Parameter update     14.4824      3.20274      6.24034  -0.00951508   0.00892595    0.0134705 -1.75616e+09  -0.00142084\n",
      "Calculating residuals and partials 59\n",
      "Current residual: 0.000789539\n",
      "Parameter update 7.21807e-05  6.24189e-05  2.61184e-05  1.09497e-07 -1.98613e-07  2.50757e-08     -9048.54 -1.41998e-07\n",
      "Calculating residuals and partials 59\n",
      "Current residual: 0.000778498\n",
      "Maximum number of iterations reached\n",
      "Parameter update -5.9291e-07  -2.7833e-07  5.19401e-07 -2.80806e-10 -5.52797e-11 -7.32346e-10     -17.1069  3.17714e-09\n",
      "Final residual: 0.000778498\n"
     ]
    }
   ],
   "source": [
    "# Perform the estimation\n",
    "estimation_output = estimator.perform_estimation(estimation_input)"
   ]
  },
  {
   "cell_type": "markdown",
   "id": "a77ce688-d439-4a37-94ee-ea9cd10b0d3d",
   "metadata": {},
   "source": [
    "## True Errors, Formal Errors\n",
    "\n",
    "Since we have now estimated the actual parameters - unlike when only getting the initial covariance matrix over the course of the orbit, as done in [Delfi-C3 Covariance Analysis example](covariance_estimated_parameters.ipynb) - we are able to qualitatively compare the goodness-of-fit of the found parameters with the known ground truth ones. \n",
    "\n",
    "The common way to perform this comparison is by following these 3 simple steps:\n",
    "\n",
    "1) Compute the formal errors. These are the **diagonal entries of the covariance matrix (variances)**\n",
    "2) Take the difference between the true parameters (known) and the estimated ones (estimated)\n",
    "3) Take the ratio between the results obtained in 2) and 1). This is the true-to-formal-error ratio.\n",
    "\n",
    "Doing this might help highlight that the formal errors one gets as the result of a covariance analysis tend to sketch a too optimistic version of reality - typically, (all or some of) the true errors are by a certain factor larger than the formal ones. In this example, we see that the 3rd, 5th and 8th parameters estimates might be too optimistic, as their true-to-formal ratio is bigger than one. "
   ]
  },
  {
   "cell_type": "code",
   "execution_count": 19,
   "id": "72d45a02-3403-4f22-ad17-e36692ab44fc",
   "metadata": {},
   "outputs": [
    {
     "name": "stdout",
     "output_type": "stream",
     "text": [
      "Calculating residuals and partials 59\n",
      "Formal Errors:\n",
      "\n",
      "[2.02083819e-01 1.57533212e-01 1.06751245e-01 1.23635255e-04\n",
      " 1.66657500e-04 1.56800126e-04 1.24090189e+07 1.09842517e-04]\n",
      "\n",
      "True Errors:\n",
      "\n",
      "[ 5.40167093e-08  1.25728548e-08  2.05822289e-07 -6.18456397e-11\n",
      " -7.45785655e-11  1.00044417e-10 -2.87500000e+01  1.18544068e-08]\n",
      "\n",
      "True-To-Formal-Error Ratio:\n",
      "\n",
      "[ 2.67298537e-07  7.98108198e-08  1.92805516e-06 -5.00226571e-07\n",
      " -4.47496006e-07  6.38037863e-07 -2.31686325e-06  1.07921842e-04]\n",
      "\n"
     ]
    },
    {
     "name": "stderr",
     "output_type": "stream",
     "text": [
      "Warning, function setConstantPerObservableWeightsMatrix is deprecated, weights should preferably be defined at the observation collection level."
     ]
    },
    {
     "name": "stdout",
     "output_type": "stream",
     "text": [
      "Current residual: 13.5179\n",
      "Parameter update    -24.4832      -13.203     -16.2402 -0.000485518   -0.0189256   -0.0234709  1.75607e+09  -0.00857875\n",
      "Calculating residuals and partials 59\n",
      "Current residual: 0.0258205\n",
      "Parameter update     14.4831      3.20294      6.24017  -0.00951459   0.00892576    0.0134708 -1.75616e+09   -0.0014211\n",
      "Calculating residuals and partials 59\n",
      "Current residual: 0.000789556\n",
      "Parameter update 7.29827e-05  6.29704e-05  2.53884e-05  1.09968e-07 -1.98481e-07    2.595e-08     -9012.77 -1.53878e-07\n",
      "Calculating residuals and partials 59\n",
      "Current residual: 0.000778498\n",
      "Maximum number of iterations reached\n",
      "Parameter update-8.46508e-07 -4.14215e-07  3.93951e-07 -3.03294e-10   -5.704e-11 -1.07507e-09      12.9454 -8.51207e-09\n",
      "Final residual: 0.000778498\n"
     ]
    }
   ],
   "source": [
    "# Perturb the initial state estimate from the truth (10 m in position; 0.1 m/s in velocity)\n",
    "# Save the true parameters to later analyse the error\n",
    "truth_parameters = parameters_to_estimate.parameter_vector\n",
    "perturbed_parameters = truth_parameters.copy( )\n",
    "for i in range(3):\n",
    "    perturbed_parameters[i] += 10.0\n",
    "    perturbed_parameters[i+3] += 0.01\n",
    "\n",
    "perturbed_parameters[6] += 1e5\n",
    "perturbed_parameters[7] += 0.01\n",
    "\n",
    "parameters_to_estimate.parameter_vector = perturbed_parameters\n",
    "\n",
    "# Create input object for the estimation\n",
    "convergence_checker = estimation.estimation_convergence_checker(maximum_iterations=4)\n",
    "estimation_input = estimation.EstimationInput(\n",
    "    simulated_observations,\n",
    "    convergence_checker=convergence_checker)\n",
    "\n",
    "# Set methodological options\n",
    "estimation_input.define_estimation_settings(\n",
    "    reintegrate_variational_equations=False)\n",
    "\n",
    "# Define weighting of the observations in the inversion\n",
    "weights_per_observable = {estimation_setup.observation.one_way_instantaneous_doppler_type: noise_level ** -2}\n",
    "estimation_input.set_constant_weight_per_observable(weights_per_observable)\n",
    "\n",
    "# Print the formal errors (diagonal entries of the covariance matrix) and the true-to-formal-errors.\n",
    "# Perform the estimation\n",
    "estimation_output = estimator.perform_estimation(estimation_input)\n",
    "formal_errors = estimation_output.formal_errors #formal errors\n",
    "print(f'Formal Errors:\\n\\n{formal_errors}\\n')\n",
    "\n",
    "true_errors = truth_parameters - parameters_to_estimate.parameter_vector #true_parameters - estimated_parameters = true error\n",
    "print(f'True Errors:\\n\\n{true_errors}\\n') \n",
    "\n",
    "true_to_formal_ratio = true_errors/formal_errors #true-to-formal-error ratio\n",
    "print(f'True-To-Formal-Error Ratio:\\n\\n{true_to_formal_ratio}\\n') "
   ]
  },
  {
   "cell_type": "markdown",
   "id": "41061acd",
   "metadata": {},
   "source": [
    "## Post-Processing Results\n",
    "Perfect, we have got our results. Now it is time to make sense of them. To further process them, one can - exemplary - plot:\n",
    "\n",
    "1) the **behaviour of the simulated observations over time**;\n",
    "2) the **history of the residuals**;\n",
    "3) the **statistical interpretation of the final residuals**.\n",
    "\n",
    "### Range-rate over time\n",
    "First, we will thus plot all simulations we have simulated over time. One can clearly see how the satellite slowly emerges from the horizon and then more 'quickly' passes the station, until the visibility criterion is not fulfilled anymore."
   ]
  },
  {
   "cell_type": "code",
   "execution_count": 20,
   "id": "3a8b2784",
   "metadata": {
    "tags": [
     "nbsphinx-thumbnail"
    ]
   },
   "outputs": [
    {
     "data": {
      "image/png": "[encoded data removed]",
      "text/plain": [
       "<Figure size 900x500 with 1 Axes>"
      ]
     },
     "metadata": {},
     "output_type": "display_data"
    }
   ],
   "source": [
    "observation_times = np.array(simulated_observations.concatenated_times)\n",
    "observations_list = np.array(simulated_observations.concatenated_observations)\n",
    "\n",
    "plt.figure(figsize=(9, 5))\n",
    "plt.title(\"Observations as a function of time\")\n",
    "plt.scatter(observation_times / 3600.0, observations_list)\n",
    "\n",
    "plt.xlabel(\"Time [hr]\")\n",
    "plt.ylabel(\"Range rate [m/s]\")\n",
    "plt.grid()\n",
    "\n",
    "plt.tight_layout()\n",
    "plt.show()"
   ]
  },
  {
   "cell_type": "markdown",
   "id": "039c8f61",
   "metadata": {},
   "source": [
    "### Residuals history\n",
    "One might also opt to instead plot the **behaviour of the residuals** per iteration of the estimator. To this end, we have thus plotted the residuals of the individual observations as a function of time. Note that we can observe a seemingly equal spread around zero. As expected - since we have not defined it this way - the observation is thus not biased."
   ]
  },
  {
   "cell_type": "code",
   "execution_count": 21,
   "id": "6b8c1178",
   "metadata": {},
   "outputs": [
    {
     "data": {
      "image/png": "[encoded data removed]",
      "text/plain": [
       "<Figure size 900x600 with 4 Axes>"
      ]
     },
     "metadata": {},
     "output_type": "display_data"
    }
   ],
   "source": [
    "residual_history = estimation_output.residual_history\n",
    "\n",
    "fig, ((ax1, ax2), (ax3, ax4)) = plt.subplots(2, 2, figsize=(9, 6))\n",
    "subplots_list = [ax1, ax2, ax3, ax4]\n",
    "\n",
    "for i in range(4):\n",
    "    subplots_list[i].scatter(observation_times, residual_history[:, i])\n",
    "    subplots_list[i].set_ylabel(\"Observation Residual [m/s]\")\n",
    "    subplots_list[i].set_title(\"Iteration \"+str(i+1))\n",
    "\n",
    "\n",
    "ax3.set_xlabel(\"Time since J2000 [s]\")\n",
    "ax4.set_xlabel(\"Time since J2000 [s]\")\n",
    "\n",
    "\n",
    "plt.tight_layout()\n",
    "plt.show()"
   ]
  },
  {
   "cell_type": "markdown",
   "id": "ce8501bc",
   "metadata": {},
   "source": [
    "### Final residuals\n",
    "Finally, one can plot the **statistical distribution of the final residuals** between the simulated observations and the estimated orbit. Ideally, given the type of observable we have used (i.e. free of any bias) as well as a statistically sufficient high number of observations, we would expect to see a Gaussian distribution with zero mean here."
   ]
  },
  {
   "cell_type": "code",
   "execution_count": 22,
   "id": "31886741",
   "metadata": {},
   "outputs": [
    {
     "data": {
      "image/png": "[encoded data removed]",
      "text/plain": [
       "<Figure size 900x500 with 1 Axes>"
      ]
     },
     "metadata": {},
     "output_type": "display_data"
    }
   ],
   "source": [
    "final_residuals = estimation_output.final_residuals\n",
    "\n",
    "plt.figure(figsize=(9,5))\n",
    "plt.hist(final_residuals, 25)\n",
    "plt.xlabel('Final iteration range-rate residual [m/s]')\n",
    "plt.ylabel('Occurrences [-]')\n",
    "plt.title('Histogram of residuals on final iteration')\n",
    "\n",
    "plt.tight_layout()\n",
    "plt.show()"
   ]
  }
 ],
 "metadata": {
  "kernelspec": {
   "display_name": "tudat-examples-0.9",
   "language": "python",
   "name": "python3"
  },
  "language_info": {
   "codemirror_mode": {
    "name": "ipython",
    "version": 3
   },
   "file_extension": ".py",
   "mimetype": "text/x-python",
   "name": "python",
   "nbconvert_exporter": "python",
   "pygments_lexer": "ipython3",
   "version": "3.11.11"
  }
 },
 "nbformat": 4,
 "nbformat_minor": 5
}
