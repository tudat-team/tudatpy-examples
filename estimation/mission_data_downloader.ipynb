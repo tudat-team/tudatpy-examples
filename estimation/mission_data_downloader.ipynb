{
 "cells": [
  {
   "cell_type": "markdown",
   "id": "278f715a-7434-4435-9996-32e58c833585",
   "metadata": {},
   "source": [
    "## Objectives\n",
    "\n",
    "This script allows to download:\n",
    "1) Spice (clock, frame, orientation, planetary) Kernels\n",
    "2) Closed Loop Doppler Data (DSN and IFMS)\n",
    "3) Ancillary Ionospheric and Tropospheric Data\n",
    "\n",
    "**NOTE 1 (Supported Missions and Relative Downloaded Data).** \n",
    "\n",
    "The following spice kernels:\n",
    "\n",
    "1) **existing spice kernels** in the mission folder\n",
    "2) (new) **downloaded spice kernels**\n",
    "3) **standard TUDAT kernels** from [`spice.load_standard_kernels()`](https://py.api.tudat.space/en/latest/spice.html#tudatpy.interface.spice.load_standard_kernels) \n",
    "\n",
    "are loaded at the end of a run (some information is printed as output).\n",
    "\n",
    "List of currently supported input_missions:\n",
    "- **Mars Reconnnaissance Orbiter (MRO)** [Available: Spice Kernels, Doppler Data, Ancillary]\n",
    "- **Mars Express (MEX)** [Available: Spice Kernels, Doppler Data, Ancillary]\n",
    "- **Jupiter Icy Moons Explorer (JUICE)** [Available: Spice Kernels, Not Available (yet): Doppler Data, Ancillary]\n",
    "\n",
    "Foreseen supported missions (in descending priority order, code yet to be developed):\n",
    "\n",
    "- Cassini\n",
    "- Insight\n",
    "- VEX\n",
    "- GRAIL\n",
    "- LRO\n",
    "\n",
    "**NOTE 2. (Outputs)**\n",
    "\n",
    "The downloaded data for a given mission is stored in a folder named `<mission_name>_archive`. Subfolders are created automatically where Kernels, Radio Science Data and Ancillary Data are stored.\n",
    "\n",
    "**NOTE 3. (about DSN-TNF)**\n",
    "\n",
    "No DSN-TNF download is implemented, since for many applications the TNF is too cumbersome. We download the DSN-ODF files instead. The ODF is an edited and partially processed version of the TNF. It is a smaller file, often issued in daily increments of about 0.2 MB. It contains the most important information (range and Doppler) \n",
    "\n",
    "\n"
   ]
  },
  {
   "cell_type": "markdown",
   "id": "e8aaf94f-6919-4ab5-bac1-f9c50a8502de",
   "metadata": {},
   "source": [
    "## Load required standard modules\n",
    "The required modules and dependencies are taken from the python file: `Mission_Data_Retriever_Class.py` present in the`tudatpy-examples/estimation` folder."
   ]
  },
  {
   "cell_type": "code",
   "execution_count": 1,
   "id": "960740e6-2b3f-4816-96c4-7c292af8f9b0",
   "metadata": {},
   "outputs": [],
   "source": [
    "from mission_data_downloader_class import *"
   ]
  },
  {
   "cell_type": "markdown",
   "id": "7c7d053f-a48e-4570-b828-a26b03d586fd",
   "metadata": {},
   "source": [
    "## Create the LoadPDS Object\n",
    "First, we create the LoadPDS() object."
   ]
  },
  {
   "cell_type": "code",
   "execution_count": 2,
   "id": "5b389133-79f9-405d-8aab-451c8b08aec8",
   "metadata": {},
   "outputs": [],
   "source": [
    "object = LoadPDS()"
   ]
  },
  {
   "cell_type": "markdown",
   "id": "2f43bb56-edd9-44ac-a22b-1af763e51780",
   "metadata": {},
   "source": [
    "## Downloader\n",
    "\n",
    "### Set Time Interval(s) for Downloading\n",
    "\n",
    "Then we select the `start_date` and `end_date`, and we do so for each mission we wish to download. Of course, each mission has to come with its own dates, as operations are carried out over different periods. \n",
    "\n",
    "### Download Mission Files\n",
    "Finally, we can call the function \"get_mission_files\n",
    "get_mro_files will download: clock kernels, orientation kernels, radio science (odf) files for mro\n",
    "get_mex_files will download: clock kernels, orientation kernels, radio science (ifms) files for mex \n",
    "get_juice_files will download: clock kernels, orientation kernels, for juice. No radio science data, cause none is yet available on the server (fdets retrieval is needed).\n",
    "\n",
    "**NOTE 4. (about the following cell output)**\n",
    "\n",
    "Please note that, although the output main cell for the MRO mission is visible in this Jupyter Notebook file, the `mro_archive` folder won't be present in the repo. You will need to run this cell yourself in order to automatically create the folder."
   ]
  },
  {
   "cell_type": "code",
   "execution_count": 3,
   "id": "92902ed5-e805-4028-a147-14df0ec6be58",
   "metadata": {
    "scrolled": true
   },
   "outputs": [
    {
     "name": "stdout",
     "output_type": "stream",
     "text": [
      "======================================= Downloading MRO Data ==============================================\n",
      "\n",
      "=========================================== Folder(s) Creation ==================================================\n",
      "Creating Local Folder: mro_archive/ and its subfolders (kernels and radio)...\n",
      "Creating folder: ck.\n",
      "Creating folder: spk.\n",
      "Creating folder: fk.\n",
      "Creating folder: sclk.\n",
      "Creating folder: lsk.\n",
      "Creating folder: ifms.\n",
      "Creating folder: odf.\n",
      "Creating folder: dp2.\n",
      "Creating folder: dps.\n",
      "Creating folder: dpx.\n",
      "Creating folder: tro.\n",
      "Creating folder: ion.\n",
      "...Done.\n",
      "===============================================================================================================\n",
      "\n",
      "===========================================================================================================\n",
      "Download MRO ODF files:\n",
      "Checking URL: https://pds-geosciences.wustl.edu/mro/mro-m-rss-1-magr-v1/mrors_0xxx/odf/\n",
      "Downloading: https://pds-geosciences.wustl.edu/mro/mro-m-rss-1-magr-v1/mrors_0xxx/odf/mromagr2007_003_0845xmmmv1.odf\n",
      "Downloading: https://pds-geosciences.wustl.edu/mro/mro-m-rss-1-magr-v1/mrors_0xxx/odf/mromagr2007_004_1801xmmmv1.odf\n",
      "...Done.\n",
      "===========================================================================================================\n",
      "Download MRO Clock Kernels:\n",
      "Downloading File: mro_archive/sclk/mro_sclkscet_00112_65536.tsc\n",
      "===========================================================================================================\n",
      "Download MRO Frame Kernels:\n",
      "Downloading File: mro_archive/fk/mro_v16.tf\n",
      "===========================================================================================================\n",
      "Download MRO SPK Kernels:\n",
      "Downloading File: mro_archive/spk/mro_psp2.bsp\n",
      "Downloading File: mro_archive/spk/mro_struct_v10.bsp\n",
      "===========================================================================================================\n",
      "Download MRO Orientation Kernels:\n",
      "Checking URL: https://naif.jpl.nasa.gov/pub/naif/pds/data/mro-m-spice-6-v1.0/mrosp_1000/data/ck/\n",
      "Downloading mro_sc_psp_070102_070108.bc\n",
      "...Done.\n",
      "===========================================================================================================\n",
      "Download MRO Tropospheric Corrections Files\n",
      "Checking URL: https://pds-geosciences.wustl.edu/mro/mro-m-rss-1-magr-v1/mrors_0xxx/ancillary/tro/\n",
      "Downloading mromagr2007_001_2007_032.tro\n",
      "...Done.\n",
      "===========================================================================================================\n",
      "Download MRO Ionospheric Corrections Files\n",
      "Checking URL: https://pds-geosciences.wustl.edu/mro/mro-m-rss-1-magr-v1/mrors_0xxx/ancillary/ion/\n",
      "Downloading mromagr2007_001_2007_032.ion\n",
      "...Done.\n",
      "===============================================================================================================\n",
      "Number of Loaded Existing + Downloaded Kernels: 5\n",
      "Number of Loaded Standard Kernels: 13\n",
      "===============================================================================================================\n",
      "Total number of loaded kernels: 18\n"
     ]
    }
   ],
   "source": [
    "if __name__ == \"__main__\":\n",
    "\n",
    "    # Set Time Interval(s) for Downloading\n",
    "\n",
    "    start_date_juice = datetime(2023, 7, 1)\n",
    "    end_date_juice = datetime(2023, 8, 10)\n",
    "    \n",
    "    start_date_mro = datetime(2007, 1, 3)\n",
    "    end_date_mro = datetime(2007, 1, 5)\n",
    "    \n",
    "    start_date_mex = datetime(2004, 1, 3)\n",
    "    end_date_mex = datetime(2004,2, 7) \n",
    "\n",
    "    # Download Mission Files \n",
    "    # (only MRO is shown here. Uncomment the corresponding lines to download data for MEX and JUICE!)\n",
    "    \n",
    "    kernel_files_mro, radio_science_files_mro, ancillary_files_mro = object.get_mission_files(input_mission = 'mro', start_date = start_date_mro, end_date = end_date_mro)         \n",
    "    print(f'Total number of loaded kernels: {spice.get_total_count_of_kernels_loaded()}')\n",
    "    \n",
    "    #kernel_files_mex, radio_science_files_mex, ancillary_files_mex = object.get_mission_files(input_mission = 'mex', start_date = start_date_mex, end_date = end_date_mex)         \n",
    "    #print(f'Total number of loaded kernels: {spice.get_total_count_of_kernels_loaded()}')\n",
    "    \n",
    "    #kernel_files_juice, radio_science_files_juice, ancillary_files_juice = object.get_mission_files(input_mission = 'juice', start_date = start_date_juice, end_date = end_date_juice) \n",
    "    #print(f'Total number of loaded kernels: {spice.get_total_count_of_kernels_loaded()}')\n"
   ]
  },
  {
   "cell_type": "markdown",
   "id": "1901bd8e-1e40-4b50-b0d1-d55acb92d1eb",
   "metadata": {},
   "source": [
    "## Loaded Kernels (Existing + Downloaded)\n",
    "Last, you can print the list of existing + downloaded files. "
   ]
  },
  {
   "cell_type": "code",
   "execution_count": 5,
   "id": "852ea8b2-78f5-4630-af89-2b44d01be859",
   "metadata": {},
   "outputs": [
    {
     "name": "stdout",
     "output_type": "stream",
     "text": [
      "MRO Kernels: {'sclk': ['mro_archive/sclk/mro_sclkscet_00112_65536.tsc'], 'fk': ['mro_archive/fk/mro_v16.tf'], 'spk': ['mro_archive/spk/mro_psp2.bsp', 'mro_archive/spk/mro_struct_v10.bsp'], 'ck': ['mro_archive/ck/mro_sc_psp_070102_070108.bc']}\n",
      "\n",
      "MRO Radio Science: {'odf': ['mro_archive/odf/mromagr2007_003_0845xmmmv1.odf', 'mro_archive/odf/mromagr2007_004_1801xmmmv1.odf']}\n",
      "\n",
      "MRO Ancillary: {'tro': ['mro_archive/tro/mromagr2007_001_2007_032.tro'], 'ion': ['mro_archive/ion/mromagr2007_001_2007_032.ion']}\n",
      "\n"
     ]
    }
   ],
   "source": [
    "print(f'MRO Kernels: {kernel_files_mro}\\n')\n",
    "print(f'MRO Radio Science: {radio_science_files_mro}\\n')\n",
    "print(f'MRO Ancillary: {ancillary_files_mro}\\n')\n",
    "\n",
    "#print(f'MEX Kernels: {kernel_files_mex}\\n')\n",
    "#print(f'MEX Radio Science: {radio_science_files_mex}\\n')\n",
    "#print(f'MEX Ancillary: {ancillary_files_mex}\\n')\n",
    "\n",
    "#print(f'JUICE Kernels: {kernel_files_juice}\\n')\n",
    "#print(f'JUICE Radio Science: {radio_science_files_juice}\\n') # it will be empty for now... (no Radio Science yet available on the server)\n",
    "#print(f'JUICE Ancillary: {ancillary_files_juice}\\n') # it will be empty for now... (no Ancillary files yet available on the server)"
   ]
  }
 ],
 "metadata": {
  "jupytext": {
   "cell_metadata_filter": "-all",
   "main_language": "python",
   "notebook_metadata_filter": "-all"
  },
  "kernelspec": {
   "display_name": "tudat-bundle",
   "language": "python",
   "name": "tudat-bundle"
  },
  "language_info": {
   "codemirror_mode": {
    "name": "ipython",
    "version": 3
   },
   "file_extension": ".py",
   "mimetype": "text/x-python",
   "name": "python",
   "nbconvert_exporter": "python",
   "pygments_lexer": "ipython3",
   "version": "3.11.9"
  }
 },
 "nbformat": 4,
 "nbformat_minor": 5
}
